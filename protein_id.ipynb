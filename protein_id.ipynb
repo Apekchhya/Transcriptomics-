{
  "cells": [
    {
      "cell_type": "code",
      "execution_count": null,
      "metadata": {
        "colab": {
          "base_uri": "https://localhost:8080/"
        },
        "id": "CBhYxlqYlO2H",
        "outputId": "8edb4b01-994e-4194-b2aa-4c21074c49cb"
      },
      "outputs": [
        {
          "name": "stdout",
          "output_type": "stream",
          "text": [
            "Collecting biopython\n",
            "  Downloading biopython-1.84-cp310-cp310-manylinux_2_17_x86_64.manylinux2014_x86_64.whl (3.2 MB)\n",
            "\u001b[2K     \u001b[90m━━━━━━━━━━━━━━━━━━━━━━━━━━━━━━━━━━━━━━━━\u001b[0m \u001b[32m3.2/3.2 MB\u001b[0m \u001b[31m23.9 MB/s\u001b[0m eta \u001b[36m0:00:00\u001b[0m\n",
            "\u001b[?25hRequirement already satisfied: numpy in /usr/local/lib/python3.10/dist-packages (from biopython) (1.25.2)\n",
            "Installing collected packages: biopython\n",
            "Successfully installed biopython-1.84\n"
          ]
        }
      ],
      "source": [
        "pip install biopython"
      ]
    },
    {
      "cell_type": "code",
      "execution_count": null,
      "metadata": {
        "colab": {
          "background_save": true,
          "base_uri": "https://localhost:8080/",
          "height": 478
        },
        "id": "T0xUA892jq_b",
        "outputId": "0b1c6cb1-22be-4970-f434-aa218e0bdc47"
      },
      "outputs": [
        {
          "name": "stdout",
          "output_type": "stream",
          "text": [
            "Protein sequences extracted and saved to resutl_down.csv\n"
          ]
        }
      ],
      "source": [
        "from Bio import Entrez\n",
        "import re\n",
        "import pandas as pd\n",
        "protein_sequences = []\n",
        "def fetch_protein_sequence(accession):\n",
        "    Entrez.email = \"apekshya.kandel123@gmail.com\"  # Set your email for identification\n",
        "\n",
        "    try:\n",
        "        # Fetch the protein sequence in FASTA format\n",
        "        handle = Entrez.efetch(db=\"protein\", id=accession, rettype=\"gb\", retmode=\"text\")\n",
        "        record_text = handle.read()\n",
        "        handle.close()\n",
        "\n",
        "        # Extract the definition line using regular expression\n",
        "        definition_line = re.search(r'DEFINITION\\s+(.*?)[\\n\\r]', record_text).group(1)\n",
        "\n",
        "        return definition_line\n",
        "\n",
        "    except Exception as e:\n",
        "        print(f\"An error occurred: {e}\")\n",
        "        return None\n",
        "\n",
        "def fetch_protein_sequences_for_column(accession_column):\n",
        "\n",
        "\n",
        "    for accession in accession_column:\n",
        "        protein_sequence = fetch_protein_sequence(accession)\n",
        "        protein_sequences.append(protein_sequence)\n",
        "\n",
        "    return protein_sequences\n",
        "\n",
        "if __name__ == \"__main__\":\n",
        "    # Load your data from a CSV file (replace 'your_data.csv' with your actual file name)\n",
        "    input_file = 'CMP-35.csv'\n",
        "    df = pd.read_csv(input_file)\n",
        "    df.dropna()\n",
        "\n",
        "    # Extract protein sequences for each accession in the \"Accession\" column\n",
        "    df['ProteinSequence'] = fetch_protein_sequences_for_column(df['ID'])\n",
        "\n",
        "    # Save the updated dataframe to a new CSV file\n",
        "    output_file = 'resutl_down.csv'\n",
        "    df.to_csv(output_file, index=False)\n",
        "\n",
        "    print(f\"Protein sequences extracted and saved to {output_file}\")"
      ]
    },
    {
      "cell_type": "code",
      "execution_count": null,
      "metadata": {
        "colab": {
          "base_uri": "https://localhost:8080/",
          "height": 245
        },
        "id": "SnANn9q1UiFi",
        "outputId": "9de4bb90-223c-4b14-be59-0656104354f9"
      },
      "outputs": [
        {
          "ename": "NameError",
          "evalue": "name 'pd' is not defined",
          "output_type": "error",
          "traceback": [
            "\u001b[0;31m---------------------------------------------------------------------------\u001b[0m",
            "\u001b[0;31mNameError\u001b[0m                                 Traceback (most recent call last)",
            "\u001b[0;32m<ipython-input-3-b54e32fed9bc>\u001b[0m in \u001b[0;36m<cell line: 26>\u001b[0;34m()\u001b[0m\n\u001b[1;32m     27\u001b[0m     \u001b[0;31m# Load your data from a CSV file (replace 'your_data.csv' with your actual file name)\u001b[0m\u001b[0;34m\u001b[0m\u001b[0;34m\u001b[0m\u001b[0m\n\u001b[1;32m     28\u001b[0m     \u001b[0minput_file\u001b[0m \u001b[0;34m=\u001b[0m \u001b[0;34m'forfun.csv'\u001b[0m\u001b[0;34m\u001b[0m\u001b[0;34m\u001b[0m\u001b[0m\n\u001b[0;32m---> 29\u001b[0;31m     \u001b[0mdf\u001b[0m \u001b[0;34m=\u001b[0m \u001b[0mpd\u001b[0m\u001b[0;34m.\u001b[0m\u001b[0mread_csv\u001b[0m\u001b[0;34m(\u001b[0m\u001b[0minput_file\u001b[0m\u001b[0;34m)\u001b[0m\u001b[0;34m\u001b[0m\u001b[0;34m\u001b[0m\u001b[0m\n\u001b[0m\u001b[1;32m     30\u001b[0m     \u001b[0mdf\u001b[0m\u001b[0;34m.\u001b[0m\u001b[0mdropna\u001b[0m\u001b[0;34m(\u001b[0m\u001b[0;34m)\u001b[0m\u001b[0;34m\u001b[0m\u001b[0;34m\u001b[0m\u001b[0m\n\u001b[1;32m     31\u001b[0m \u001b[0;34m\u001b[0m\u001b[0m\n",
            "\u001b[0;31mNameError\u001b[0m: name 'pd' is not defined"
          ]
        }
      ],
      "source": [
        "protein_sequences = []\n",
        "def fetch_protein_sequence(accession):\n",
        "    Entrez.email = \"apekshya.kandel123@gmail.com\"  # Set your email for identification\n",
        "\n",
        "    try:\n",
        "        # Fetch the protein sequence in FASTA format\n",
        "        handle = Entrez.efetch(db=\"protein\", id=accession, rettype=\"fasta\", retmode=\"text\")\n",
        "        sequence_data = handle.read()\n",
        "        handle.close()\n",
        "\n",
        "        return sequence_data\n",
        "\n",
        "    except Exception as e:\n",
        "        print(f\"An error occurred: {e}\")\n",
        "        return None\n",
        "\n",
        "def fetch_protein_sequences_for_column(accession_column):\n",
        "\n",
        "\n",
        "    for accession in accession_column:\n",
        "        protein_sequence = fetch_protein_sequence(accession)\n",
        "        protein_sequences.append(protein_sequence)\n",
        "\n",
        "    return protein_sequences\n",
        "\n",
        "if __name__ == \"__main__\":\n",
        "    # Load your data from a CSV file (replace 'your_data.csv' with your actual file name)\n",
        "    input_file = 'forfun.csv'\n",
        "    df = pd.read_csv(input_file)\n",
        "    df.dropna()\n",
        "\n",
        "    # Extract protein sequences for each accession in the \"Accession\" column\n",
        "    df['ProteinSequence'] = fetch_protein_sequences_for_column(df['ID'])\n",
        "\n",
        "    # Save the updated dataframe to a new CSV file\n",
        "    output_file = 'output_data.csv'\n",
        "    df.to_csv(output_file, index=False)\n",
        "\n",
        "    print(f\"Protein sequences extracted and saved to {output_file}\")"
      ]
    },
    {
      "cell_type": "code",
      "execution_count": null,
      "metadata": {
        "id": "w9-xlhjzZauw"
      },
      "outputs": [],
      "source": [
        "df.drop([\"Gene ID\", \"ID\"], axis = 1, inplace = True)"
      ]
    }
  ],
  "metadata": {
    "colab": {
      "provenance": []
    },
    "kernelspec": {
      "display_name": "Python 3",
      "name": "python3"
    },
    "language_info": {
      "name": "python"
    }
  },
  "nbformat": 4,
  "nbformat_minor": 0
}