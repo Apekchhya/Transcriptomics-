{
  "nbformat": 4,
  "nbformat_minor": 0,
  "metadata": {
    "colab": {
      "provenance": []
    },
    "kernelspec": {
      "name": "python3",
      "display_name": "Python 3"
    },
    "language_info": {
      "name": "python"
    }
  },
  "cells": [
    {
      "cell_type": "code",
      "execution_count": null,
      "metadata": {
        "colab": {
          "base_uri": "https://localhost:8080/"
        },
        "id": "ciTFbmC7KCtW",
        "outputId": "e535cb36-5a8e-4e6b-c108-9eaa8cf75f30"
      },
      "outputs": [
        {
          "output_type": "stream",
          "name": "stdout",
          "text": [
            "Collecting biopython\n",
            "  Downloading biopython-1.83-cp310-cp310-manylinux_2_17_x86_64.manylinux2014_x86_64.whl (3.1 MB)\n",
            "\u001b[2K     \u001b[90m━━━━━━━━━━━━━━━━━━━━━━━━━━━━━━━━━━━━━━━━\u001b[0m \u001b[32m3.1/3.1 MB\u001b[0m \u001b[31m27.9 MB/s\u001b[0m eta \u001b[36m0:00:00\u001b[0m\n",
            "\u001b[?25hRequirement already satisfied: numpy in /usr/local/lib/python3.10/dist-packages (from biopython) (1.25.2)\n",
            "Installing collected packages: biopython\n",
            "Successfully installed biopython-1.83\n"
          ]
        }
      ],
      "source": [
        "pip install biopython"
      ]
    },
    {
      "cell_type": "code",
      "source": [
        "import requests\n",
        "from bs4 import BeautifulSoup\n",
        "\n",
        "# URL of the NCBI Gene page\n",
        "url = 'https://www.ncbi.nlm.nih.gov/gene/?term=EGY14589'\n",
        "\n",
        "# Send an HTTP request to the URL\n",
        "response = requests.get(url)\n",
        "\n",
        "# Parse the HTML content\n",
        "soup = BeautifulSoup(response.text, 'html.parser')\n",
        "\n",
        "# Find the gene name element with error checking\n",
        "gene_name_element = soup.find('div', {'class': 'rprt-header'})\n",
        "if gene_name_element:\n",
        "    span_element = gene_name_element.find('h1', {'id': 'gene-name'})\n",
        "    if span_element:\n",
        "        # Extract the gene name\n",
        "        gene_name = span_element.text.strip()\n",
        "        print(\"Gene Name:\", gene_name)\n",
        "    else:\n",
        "        print(\"Gene name span element not found.\")\n",
        "else:\n",
        "    print(\"Gene name div element not found.\")\n"
      ],
      "metadata": {
        "colab": {
          "base_uri": "https://localhost:8080/"
        },
        "id": "MoeWSZB6KDqG",
        "outputId": "0335ac80-3c7f-4333-f63d-2efdf6c5bbba"
      },
      "execution_count": null,
      "outputs": [
        {
          "output_type": "stream",
          "name": "stdout",
          "text": [
            "Gene Name: VDAG_05753 hypothetical protein [ Verticillium dahliae VdLs.17\n",
            "                ]\n"
          ]
        }
      ]
    },
    {
      "cell_type": "code",
      "source": [
        "import requests\n",
        "from bs4 import BeautifulSoup\n",
        "import pandas as pd\n",
        "\n",
        "# Function to extract gene name from NCBI Gene page\n",
        "def get_gene_name(gene_term):\n",
        "    url = f'https://www.ncbi.nlm.nih.gov/gene/?term={gene_term}'\n",
        "    response = requests.get(url)\n",
        "    soup = BeautifulSoup(response.text, 'html.parser')\n",
        "    gene_name_element = soup.find('div', {'class': 'rprt-header'})\n",
        "    if gene_name_element:\n",
        "        span_element = gene_name_element.find('h1', {'id': 'gene-name'})\n",
        "        if span_element:\n",
        "            return span_element.text.strip()\n",
        "    return None\n",
        "\n",
        "# Read gene terms from CSV file\n",
        "csv_file_path = 'Book2.csv'  # Replace with the actual path to your CSV file\n",
        "df = pd.read_csv(csv_file_path)\n",
        "\n",
        "# Iterate over gene terms and get gene names\n",
        "gene_names = []\n",
        "for gene_term in df['ID']:\n",
        "    gene_name = get_gene_name(gene_term)\n",
        "    gene_names.append(gene_name)\n",
        "\n",
        "# Add gene names to the DataFrame\n",
        "df['GeneName'] = gene_names\n",
        "\n",
        "# Print or save the DataFrame with gene names\n",
        "print(df)\n"
      ],
      "metadata": {
        "colab": {
          "base_uri": "https://localhost:8080/"
        },
        "id": "Bu427yg0Ulv_",
        "outputId": "07881983-79ae-4dc5-9b8b-8104a6d17d9e"
      },
      "execution_count": null,
      "outputs": [
        {
          "output_type": "stream",
          "name": "stdout",
          "text": [
            "   Regulation        ID                                           GeneName\n",
            "0          Up  EGY13694  VDAG_00376 chitin synthase D [ Verticillium da...\n",
            "1          Up  EGY15799  VDAG_06963 hypothetical protein [ Verticillium...\n",
            "2          Up  EGY16876  VDAG_08040 UDP-glucose 4-epimerase [ Verticill...\n",
            "3          Up  EGY18257  VDAG_08591 chitin synthase [ Verticillium dahl...\n",
            "4          Up  EGY20351  VDAG_09980 hypothetical protein [ Verticillium...\n",
            "5          Up  EGY21503  VDAG_10485 NADH-cytochrome b5 reductase [ Vert...\n",
            "6          Up  EGY22421  VDAG_03859 xylosidase/arabinosidase [ Verticil...\n",
            "7        Down  EGY14241  VDAG_05405 chitin synthase [ Verticillium dahl...\n",
            "8        Down  EGY14409  VDAG_05573 glucosamine-6-phosphate isomerase [...\n",
            "9        Down  EGY14411  VDAG_05575 N-acetylglucosamine-6-phosphate dea...\n",
            "10       Down  EGY14413  VDAG_05577 beta-hexosaminidase [ Verticillium ...\n",
            "11       Down  EGY14494  VDAG_05658 chitinase 18-2 [ Verticillium dahli...\n",
            "12       Down  EGY15156  VDAG_06010 NRS/ER protein [ Verticillium dahli...\n",
            "13       Down  EGY15661  VDAG_06825 chitinase [ Verticillium dahliae Vd...\n",
            "14       Down  EGY16940  VDAG_08104 hypothetical protein [ Verticillium...\n",
            "15       Down  EGY16989  VDAG_08153 hypothetical protein [ Verticillium...\n",
            "16       Down  EGY17219  VDAG_00901 killer toxin subunits alpha/beta [ ...\n",
            "17       Down  EGY17220  VDAG_00902 LysM domain-containing protein [ Ve...\n",
            "18       Down  EGY17778  VDAG_01460 VIB-1 protein [ Verticillium dahlia...\n",
            "19       Down  EGY18968  VDAG_09302 beta-xylosidase [ Verticillium dahl...\n",
            "20       Down  EGY19194  VDAG_09528 hypothetical protein [ Verticillium...\n",
            "21       Down  EGY19226  VDAG_09560 chitinase [ Verticillium dahliae Vd...\n",
            "22       Down  EGY19897  VDAG_01913 glucokinase [ Verticillium dahliae ...\n",
            "23       Down  EGY20145  VDAG_02161 keratin-associated protein 5-4 [ Ve...\n",
            "24       Down  EGY20146  VDAG_02162 oviduct-specific glycoprotein [ Ver...\n",
            "25       Down  EGY20277  VDAG_02293 chitin deacetylase [ Verticillium d...\n",
            "26       Down  EGY20832  VDAG_02356 chitinase [ Verticillium dahliae Vd...\n",
            "27       Down  EGY21314  VDAG_02838 hypothetical protein [ Verticillium...\n",
            "28       Down  EGY21382  VDAG_02906 hypothetical protein [ Verticillium...\n",
            "29       Down  EGY21545  VDAG_10527 lectin-B [ Verticillium dahliae VdL...\n",
            "30       Down  EGY22898  VDAG_04336 alpha-N-arabinofuranosidase [ Verti...\n",
            "31       Down  EGY23046  VDAG_04484 beta-hexosaminidase beta chain [ Ve...\n"
          ]
        }
      ]
    },
    {
      "cell_type": "code",
      "source": [
        "df.to_csv('amino_sugar.csv', index=False)"
      ],
      "metadata": {
        "id": "N0vS8sxcWAWB"
      },
      "execution_count": null,
      "outputs": []
    }
  ]
}